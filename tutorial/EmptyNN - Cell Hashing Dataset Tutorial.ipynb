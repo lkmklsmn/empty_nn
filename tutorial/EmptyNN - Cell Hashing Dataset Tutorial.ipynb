{
 "cells": [
  {
   "cell_type": "markdown",
   "metadata": {},
   "source": [
    "# This jupyter notebook contains an analysis example using [EmptyNN](https://github.com/lkmklsmn/empty_nn). The code reproduces the preprocessing analysis of singe-cell RNA sequencing data published by [Stoeckius et al](https://genomebiology.biomedcentral.com/articles/10.1186/s13059-018-1603-1), which we refer to as \"cell hahing dataset\" in our manuscript. \n",
    "### The following code runs in R environment. No requirment on R version. The libraries installed include EmptyNN, Seurat (for downstream analysis), ggplot2 (for visualization)."
   ]
  },
  {
   "cell_type": "markdown",
   "metadata": {},
   "source": [
    "## Load R libraries"
   ]
  },
  {
   "cell_type": "code",
   "execution_count": 5,
   "metadata": {},
   "outputs": [],
   "source": [
    "suppressMessages({library(\"EmptyNN\")\n",
    "                  library(\"Seurat\")\n",
    "                  library(\"pheatmap\")\n",
    "                  library(\"ggplot2\")})"
   ]
  },
  {
   "cell_type": "markdown",
   "metadata": {},
   "source": [
    "## Load cell hahing data from Stoeckius et al\n",
    "\n",
    "### Option 1: Run \"sh ./code/download_data.sh\" in terminal to download example datasets <br> Option 2: The raw **cell hashing** datasets can be downloaded from [paper](https://genomebiology.biomedcentral.com/articles/10.1186/s13059-018-1603-1) or [GSE108313](https://www.ncbi.nlm.nih.gov/geo/query/acc.cgi?acc=GSE108313). <br> Option 3: The RData file used in our analysis can be downloaded from [google drive](https://drive.google.com/file/d/12y0fW_Y9OdhBLns_2gpjo2Xq25c4qnGY/view?usp=sharing). It contains both the count matrix and label for each barcode."
   ]
  },
  {
   "cell_type": "code",
   "execution_count": 7,
   "metadata": {},
   "outputs": [],
   "source": [
    "load(\"../data/cell_hashing_raw.RData\")"
   ]
  },
  {
   "cell_type": "markdown",
   "metadata": {},
   "source": [
    "## We apply EmptyNN to do the preprocessing. \n",
    "### The input is raw count matrix, either in h5 or mtx format. The rows are barcodes and columns are genes. <br> The output is a boolean vector showing cell-free droplet (empty droplet) or cell-containing droplet."
   ]
  },
  {
   "cell_type": "markdown",
   "metadata": {},
   "source": [
    "### Runtime depends on the dataset to be processed and parameter setting. A higher k_folds or iteration means longer runtime. It takes ~30 mins to run with the default parameters. <br> For demonstration purposes, we set parameters to a low number, which takes ~5 mins."
   ]
  },
  {
   "cell_type": "code",
   "execution_count": 9,
   "metadata": {},
   "outputs": [
    {
     "name": "stdout",
     "output_type": "stream",
     "text": [
      "[1] \"there are 11865 in P set\"\n",
      "[1] \"there are 27977 in U set\"\n",
      "[1] \"Samples in U set were split into 2 folds\"\n",
      "[1] \"data normalization\"\n",
      "[1] \"start training\"\n",
      "[1] \"iteration 1\"\n",
      "[1] \"training fold 1\"\n",
      "[1] \"training fold 2\"\n"
     ]
    }
   ],
   "source": [
    "nn.res <- emptynn(t(counts),threshold=50,k=2,iteration=1)\n",
    "nn.keep <- nn.res$nn.keep"
   ]
  }
 ],
 "metadata": {
  "kernelspec": {
   "display_name": "R",
   "language": "R",
   "name": "ir"
  },
  "language_info": {
   "codemirror_mode": "r",
   "file_extension": ".r",
   "mimetype": "text/x-r-source",
   "name": "R",
   "pygments_lexer": "r",
   "version": "4.1.0"
  }
 },
 "nbformat": 4,
 "nbformat_minor": 2
}
